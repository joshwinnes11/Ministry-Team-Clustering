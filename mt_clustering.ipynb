{
 "cells": [
  {
   "cell_type": "markdown",
   "metadata": {},
   "source": [
    "# **Clustering Ministry Teams**"
   ]
  },
  {
   "cell_type": "markdown",
   "metadata": {},
   "source": [
    "**Problem:** The Office of Ministry and Evangelism has 18 ministry teams as of November 2024. We are on pace to add 2-3 ministry teams per year. The Christian Service Council has Ministry Team Coordinators (MTC) that are each assigned 5-6 ministry teams to oversee and advise. However, in the past, these teams have been divided up sort of randomly which makes it hard for MTCs to provide targed assistance and care for the Ministry Team Directors. Thus, we seek to find a more systematic way to group similar ministry teams together in order to help MTCs focus their attention and care.\n",
    "\n",
    "**Approach:** Each month, MTCs conduct one-on-one meetings with the directors of the ministry teams that they oversee. In November 2024, we instructed each MTC to collect specific data about the operation of each ministry team so that we could a) gain a better understanding of how each ministry team is operating and b) collect data in order to cluster similar ministry teams together. We will employ various clustering algorithms to get an objective opinion on which ministry teams are the most similar, evaluate the importance of each factor in order to understand what makes certain ministry teams similar to one another, and finally use the results as insight into how we can advise future CSC cabinets on how they should group ministry teams to provide more targeted care.\n",
    "\n",
    "**Data:**\n"
   ]
  },
  {
   "cell_type": "code",
   "execution_count": 1,
   "metadata": {},
   "outputs": [],
   "source": [
    "import pandas as pd   \n",
    "import numpy as np    \n",
    "import matplotlib.pyplot as plt   \n",
    "import seaborn as sns   \n",
    "from sklearn.model_selection import GridSearchCV\n",
    "from sklearn import preprocessing\n",
    "from sklearn.neighbors import KNeighborsClassifier\n",
    "from sklearn import metrics\n"
   ]
  },
  {
   "cell_type": "code",
   "execution_count": null,
   "metadata": {},
   "outputs": [],
   "source": []
  }
 ],
 "metadata": {
  "kernelspec": {
   "display_name": "mtcluster",
   "language": "python",
   "name": "python3"
  },
  "language_info": {
   "codemirror_mode": {
    "name": "ipython",
    "version": 3
   },
   "file_extension": ".py",
   "mimetype": "text/x-python",
   "name": "python",
   "nbconvert_exporter": "python",
   "pygments_lexer": "ipython3",
   "version": "3.12.7"
  },
  "orig_nbformat": 4
 },
 "nbformat": 4,
 "nbformat_minor": 2
}
